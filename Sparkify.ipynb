{
 "cells": [
  {
   "cell_type": "markdown",
   "metadata": {},
   "source": [
    "# Sparkify Project Workspace\n",
    "This workspace contains a tiny subset (128MB) of the full dataset available (12GB). Feel free to use this workspace to build your project, or to explore a smaller subset with Spark before deploying your cluster on the cloud. Instructions for setting up your Spark cluster is included in the last lesson of the Extracurricular Spark Course content.\n",
    "\n",
    "You can follow the steps below to guide your data analysis and model building portion of this project."
   ]
  },
  {
   "cell_type": "code",
   "execution_count": 1,
   "metadata": {},
   "outputs": [],
   "source": [
    "# import libraries\n",
    "from pyspark.sql import SparkSession\n",
    "from pyspark.sql.functions import avg, col, concat, count, desc, explode, lit, udf, split, to_date, from_unixtime\n",
    "from pyspark.sql.types import IntegerType, StringType\n",
    "from pyspark.sql.functions import unix_timestamp\n",
    "from pyspark.sql import functions as f\n",
    "from pyspark.sql import types as t\n",
    "from pyspark.ml.classification import LogisticRegression\n",
    "from pyspark.ml.feature import VectorAssembler\n",
    "from pyspark.ml.tuning import CrossValidator, ParamGridBuilder, TrainValidationSplit\n",
    "from pyspark.ml.classification import DecisionTreeClassifier\n",
    "from pyspark.mllib.util import MLUtils\n",
    "from pyspark.ml import Pipeline\n",
    "from pyspark.ml.feature import Normalizer\n",
    "from pyspark.mllib.evaluation import MulticlassMetrics\n",
    "from pyspark.ml.evaluation import RegressionEvaluator\n",
    "import matplotlib.pyplot as plt\n",
    "% matplotlib inline\n",
    "\n",
    "\n"
   ]
  },
  {
   "cell_type": "code",
   "execution_count": 2,
   "metadata": {},
   "outputs": [],
   "source": [
    "# create a Spark session\n",
    "spark = SparkSession.builder \\\n",
    "    .master(\"local\") \\\n",
    "    .appName(\"Churn Prediction\") \\\n",
    "    .getOrCreate()"
   ]
  },
  {
   "cell_type": "markdown",
   "metadata": {},
   "source": [
    "# Load and Clean Dataset\n",
    "In this workspace, the mini-dataset file is `mini_sparkify_event_data.json`. Load and clean the dataset, checking for invalid or missing data - for example, records without userids or sessionids. "
   ]
  },
  {
   "cell_type": "code",
   "execution_count": 3,
   "metadata": {},
   "outputs": [],
   "source": [
    "sparkify_data = 'mini_sparkify_event_data.json'"
   ]
  },
  {
   "cell_type": "code",
   "execution_count": 4,
   "metadata": {},
   "outputs": [
    {
     "data": {
      "text/plain": [
       "DataFrame[artist: string, auth: string, firstName: string, gender: string, itemInSession: bigint, lastName: string, length: double, level: string, location: string, method: string, page: string, registration: bigint, sessionId: bigint, song: string, status: bigint, ts: bigint, userAgent: string, userId: string]"
      ]
     },
     "execution_count": 4,
     "metadata": {},
     "output_type": "execute_result"
    }
   ],
   "source": [
    "df = spark.read.json(sparkify_data)\n",
    "df.persist()"
   ]
  },
  {
   "cell_type": "code",
   "execution_count": 5,
   "metadata": {},
   "outputs": [
    {
     "data": {
      "text/plain": [
       "Row(artist='Martha Tilston', auth='Logged In', firstName='Colin', gender='M', itemInSession=50, lastName='Freeman', length=277.89016, level='paid', location='Bakersfield, CA', method='PUT', page='NextSong', registration=1538173362000, sessionId=29, song='Rockpools', status=200, ts=1538352117000, userAgent='Mozilla/5.0 (Windows NT 6.1; WOW64; rv:31.0) Gecko/20100101 Firefox/31.0', userId='30')"
      ]
     },
     "execution_count": 5,
     "metadata": {},
     "output_type": "execute_result"
    }
   ],
   "source": [
    "df.head()"
   ]
  },
  {
   "cell_type": "code",
   "execution_count": 6,
   "metadata": {},
   "outputs": [
    {
     "name": "stdout",
     "output_type": "stream",
     "text": [
      "root\n",
      " |-- artist: string (nullable = true)\n",
      " |-- auth: string (nullable = true)\n",
      " |-- firstName: string (nullable = true)\n",
      " |-- gender: string (nullable = true)\n",
      " |-- itemInSession: long (nullable = true)\n",
      " |-- lastName: string (nullable = true)\n",
      " |-- length: double (nullable = true)\n",
      " |-- level: string (nullable = true)\n",
      " |-- location: string (nullable = true)\n",
      " |-- method: string (nullable = true)\n",
      " |-- page: string (nullable = true)\n",
      " |-- registration: long (nullable = true)\n",
      " |-- sessionId: long (nullable = true)\n",
      " |-- song: string (nullable = true)\n",
      " |-- status: long (nullable = true)\n",
      " |-- ts: long (nullable = true)\n",
      " |-- userAgent: string (nullable = true)\n",
      " |-- userId: string (nullable = true)\n",
      "\n"
     ]
    }
   ],
   "source": [
    "df.printSchema()"
   ]
  },
  {
   "cell_type": "code",
   "execution_count": 7,
   "metadata": {},
   "outputs": [
    {
     "data": {
      "text/plain": [
       "8346"
      ]
     },
     "execution_count": 7,
     "metadata": {},
     "output_type": "execute_result"
    }
   ],
   "source": [
    "len(df.select(['userId','sessionId','artist','song']).where(df.userId == '').collect())"
   ]
  },
  {
   "cell_type": "code",
   "execution_count": 8,
   "metadata": {},
   "outputs": [
    {
     "data": {
      "text/plain": [
       "0"
      ]
     },
     "execution_count": 8,
     "metadata": {},
     "output_type": "execute_result"
    }
   ],
   "source": [
    "len(df.select(['userId','sessionId','artist','song']).where(df.sessionId.isNull()).collect())"
   ]
  },
  {
   "cell_type": "code",
   "execution_count": 9,
   "metadata": {},
   "outputs": [],
   "source": [
    "df = df.where(df.userId != '')"
   ]
  },
  {
   "cell_type": "code",
   "execution_count": 10,
   "metadata": {},
   "outputs": [
    {
     "data": {
      "text/plain": [
       "278154"
      ]
     },
     "execution_count": 10,
     "metadata": {},
     "output_type": "execute_result"
    }
   ],
   "source": [
    "df.count()"
   ]
  },
  {
   "cell_type": "code",
   "execution_count": 11,
   "metadata": {},
   "outputs": [
    {
     "data": {
      "text/plain": [
       "[]"
      ]
     },
     "execution_count": 11,
     "metadata": {},
     "output_type": "execute_result"
    }
   ],
   "source": [
    "df.select(['userId', 'sessionId', 'artist']).where(df.gender == '').collect()"
   ]
  },
  {
   "cell_type": "code",
   "execution_count": 12,
   "metadata": {},
   "outputs": [
    {
     "data": {
      "text/plain": [
       "[]"
      ]
     },
     "execution_count": 12,
     "metadata": {},
     "output_type": "execute_result"
    }
   ],
   "source": [
    "df.select(['userId', 'sessionId', 'artist']).where(df.gender.isNull()).collect()"
   ]
  },
  {
   "cell_type": "code",
   "execution_count": 13,
   "metadata": {},
   "outputs": [
    {
     "data": {
      "text/plain": [
       "[]"
      ]
     },
     "execution_count": 13,
     "metadata": {},
     "output_type": "execute_result"
    }
   ],
   "source": [
    "df.select(['userId', 'sessionId', 'artist']).where(df.page == '').collect()"
   ]
  },
  {
   "cell_type": "markdown",
   "metadata": {},
   "source": [
    "**My Notes**: As we can see, there were `8,346` missing `userId` records in this dataset. For this, we removed the rows where these were missing."
   ]
  },
  {
   "cell_type": "code",
   "execution_count": 14,
   "metadata": {},
   "outputs": [
    {
     "name": "stdout",
     "output_type": "stream",
     "text": [
      "+-------------+\n",
      "|           ts|\n",
      "+-------------+\n",
      "|1538352117000|\n",
      "|1538352180000|\n",
      "+-------------+\n",
      "only showing top 2 rows\n",
      "\n"
     ]
    }
   ],
   "source": [
    "df.select('ts').show(2)"
   ]
  },
  {
   "cell_type": "code",
   "execution_count": 15,
   "metadata": {},
   "outputs": [],
   "source": [
    "df = df.withColumn('datetime', f.date_format(df.ts.cast(dataType=t.TimestampType()), \"yyyy-MM-dd HH:mm:ss.SSS z\"))\n"
   ]
  },
  {
   "cell_type": "code",
   "execution_count": 16,
   "metadata": {
    "scrolled": true
   },
   "outputs": [
    {
     "name": "stdout",
     "output_type": "stream",
     "text": [
      "+--------------------+---------+---------+--------------------+---------+-------------+--------------------+------+\n",
      "|              artist|   length|sessionId|            datetime|firstname|itemInSession|                song|userId|\n",
      "+--------------------+---------+---------+--------------------+---------+-------------+--------------------+------+\n",
      "|                null|     null|      141|50719-01-27 21:10...|    Grant|            0|                null|   142|\n",
      "|           The Kooks|169.45587|      141|50719-01-28 03:00...|    Grant|            1|         Love It All|   142|\n",
      "|          Plasmatics| 256.7571|      141|50719-01-30 01:56...|    Grant|            2|          The Damned|   142|\n",
      "|     Alliance Ethnik|195.94404|      141|50719-02-02 01:03...|    Grant|            3|SinceritÃÂ© Et J...|   142|\n",
      "|     Tears For Fears|361.29914|      141|50719-02-04 07:13...|    Grant|            4|              Change|   142|\n",
      "|                  B5|189.36118|      141|50719-02-08 11:30...|    Grant|            5|          Heartbreak|   142|\n",
      "|                null|     null|      141|50719-02-08 18:10...|    Grant|            6|                null|   142|\n",
      "|               Plies|278.22975|      141|50719-02-10 16:00...|    Grant|            7|Somebody (Loves Y...|   142|\n",
      "|            Yeasayer|298.91873|      141|50719-02-13 21:13...|    Grant|            8|            Red Cave|   142|\n",
      "|                null|     null|      141|50719-02-14 06:06...|    Grant|            9|                null|   142|\n",
      "|                null|     null|      141|50719-02-15 08:46...|    Grant|           10|                null|   142|\n",
      "|                null|     null|      141|50719-02-15 09:03...|    Grant|           11|                null|   142|\n",
      "|                null|     null|      141|50719-02-17 18:00...|    Grant|           12|                null|   142|\n",
      "|          Nickelback|262.81751|      141|50719-02-18 09:33...|    Grant|           13|I'd Come For You ...|   142|\n",
      "|     Venetian Snares| 71.70567|      141|50719-02-21 10:20...|    Grant|           14|            Fuck Off|   142|\n",
      "|     The Red Crayola|153.80853|      141|50719-02-22 06:03...|    Grant|           15|Transparent Radia...|   142|\n",
      "|Tune Up! vs. Ital...|319.73832|      141|50719-02-24 00:33...|    Grant|           16|Colours Of The Ra...|   142|\n",
      "|                Enya|104.56771|      141|50719-02-27 17:10...|    Grant|           17|   Deireadh An Tuath|   142|\n",
      "|         Binary Star| 54.22975|      141|50719-02-28 22:03...|    Grant|           18|     The KGB (Intro)|   142|\n",
      "|             Erasure|246.46485|      141|50719-03-01 13:03...|    Grant|           19|Fingers And Thumb...|   142|\n",
      "+--------------------+---------+---------+--------------------+---------+-------------+--------------------+------+\n",
      "only showing top 20 rows\n",
      "\n"
     ]
    }
   ],
   "source": [
    "df.filter(df.sessionId == '141').select(['artist','length','sessionId','datetime','firstname','itemInSession','song','userId']).show()\n"
   ]
  },
  {
   "cell_type": "code",
   "execution_count": 17,
   "metadata": {},
   "outputs": [],
   "source": [
    "# the dataframe has null values: lets fill with 0\n",
    "df = df.fillna({'length':0})"
   ]
  },
  {
   "cell_type": "markdown",
   "metadata": {},
   "source": [
    "# Exploratory Data Analysis\n",
    "When you're working with the full dataset, perform EDA by loading a small subset of the data and doing basic manipulations within Spark. In this workspace, you are already provided a small subset of data you can explore.\n",
    "\n",
    "### Define Churn\n",
    "\n",
    "Once you've done some preliminary analysis, create a column `Churn` to use as the label for your model. I suggest using the `Cancellation Confirmation` events to define your churn, which happen for both paid and free users. As a bonus task, you can also look into the `Downgrade` events.\n",
    "\n",
    "### Explore Data\n",
    "Once you've defined churn, perform some exploratory data analysis to observe the behavior for users who stayed vs users who churned. You can start by exploring aggregates on these two groups of users, observing how much of a specific action they experienced per a certain time unit or number of songs played."
   ]
  },
  {
   "cell_type": "code",
   "execution_count": null,
   "metadata": {},
   "outputs": [],
   "source": []
  },
  {
   "cell_type": "code",
   "execution_count": 18,
   "metadata": {},
   "outputs": [
    {
     "name": "stdout",
     "output_type": "stream",
     "text": [
      "+--------------------+\n",
      "|                page|\n",
      "+--------------------+\n",
      "|               About|\n",
      "|          Add Friend|\n",
      "|     Add to Playlist|\n",
      "|              Cancel|\n",
      "|Cancellation Conf...|\n",
      "|           Downgrade|\n",
      "|               Error|\n",
      "|                Help|\n",
      "|                Home|\n",
      "|              Logout|\n",
      "|            NextSong|\n",
      "|         Roll Advert|\n",
      "|       Save Settings|\n",
      "|            Settings|\n",
      "|    Submit Downgrade|\n",
      "|      Submit Upgrade|\n",
      "|         Thumbs Down|\n",
      "|           Thumbs Up|\n",
      "|             Upgrade|\n",
      "+--------------------+\n",
      "\n"
     ]
    }
   ],
   "source": [
    "df.select('page').dropDuplicates().sort(\"page\").show()"
   ]
  },
  {
   "cell_type": "code",
   "execution_count": 19,
   "metadata": {},
   "outputs": [
    {
     "name": "stdout",
     "output_type": "stream",
     "text": [
      "Cancel Confirmation Total Count:  52\n",
      "Users on the system:  225\n",
      "Cancel confirmation users:  52\n"
     ]
    }
   ],
   "source": [
    "# Explore how many users are actually on the system, and how many have went on the page 'Cancellation Confirmation'\n",
    "\n",
    "# groupby user and also by cancellation confirmation\n",
    "print(\"Cancel Confirmation Total Count: \", df.filter(df['page'] == 'Cancellation Confirmation').count())\n",
    "\n",
    "# how many users are on the system?\n",
    "print(\"Users on the system: \", len(df.select('userId').dropDuplicates().collect()))\n",
    "\n",
    "\n",
    "print(\"Cancel confirmation users: \", len(df.select('userId').filter(df['page'] == 'Cancellation Confirmation').collect()))\n"
   ]
  },
  {
   "cell_type": "markdown",
   "metadata": {},
   "source": [
    "**My Notes:** Above, we can confirm that 52 users have cancelled the service. We can also confirm that 226 users are using the service. These are all unique users on the system. Going forward, we can say that when a person goes to the `Cancel Confirmation` page, they are cancelling their service, thus they are **churning**. We can now move forward and create a column for the event of going to this page and label it as churn with the value of `1`."
   ]
  },
  {
   "cell_type": "code",
   "execution_count": 20,
   "metadata": {},
   "outputs": [],
   "source": [
    "# create a column called Churn and 1 being if the user ever had a Cancellation Confirmation and 0 if not\n",
    "flag_churn = udf(lambda x: 1 if x == \"Cancellation Confirmation\" else 0, IntegerType())\n",
    "\n",
    "df = df.withColumn(\"churned\", flag_churn(\"page\"))"
   ]
  },
  {
   "cell_type": "code",
   "execution_count": 21,
   "metadata": {},
   "outputs": [
    {
     "data": {
      "text/plain": [
       "52"
      ]
     },
     "execution_count": 21,
     "metadata": {},
     "output_type": "execute_result"
    }
   ],
   "source": [
    "df.select(['userId', 'churned']).where(df.churned == 1).count()"
   ]
  },
  {
   "cell_type": "code",
   "execution_count": 22,
   "metadata": {},
   "outputs": [],
   "source": [
    "# collect all user Id's that are churned\n",
    "userIds = []\n",
    "for userId in df.filter(df.churned == 1).select('userId').collect():\n",
    "    userIds.append(userId[0])"
   ]
  },
  {
   "cell_type": "code",
   "execution_count": 23,
   "metadata": {},
   "outputs": [],
   "source": [
    "flag_churn_2 = udf(lambda x: 1 if x in (userIds) else 0, IntegerType())"
   ]
  },
  {
   "cell_type": "code",
   "execution_count": 24,
   "metadata": {},
   "outputs": [],
   "source": [
    "df = df.withColumn(\"churned\", flag_churn_2(\"userId\"))"
   ]
  },
  {
   "cell_type": "code",
   "execution_count": 25,
   "metadata": {},
   "outputs": [
    {
     "data": {
      "text/plain": [
       "44864"
      ]
     },
     "execution_count": 25,
     "metadata": {},
     "output_type": "execute_result"
    }
   ],
   "source": [
    "df.where(df.churned == 1).count()"
   ]
  },
  {
   "cell_type": "code",
   "execution_count": 26,
   "metadata": {},
   "outputs": [
    {
     "name": "stdout",
     "output_type": "stream",
     "text": [
      "+-------+--------------------+-----------+\n",
      "|churned|                page|count(page)|\n",
      "+-------+--------------------+-----------+\n",
      "|      1|               About|         56|\n",
      "|      0|               About|        439|\n",
      "|      1|          Add Friend|        636|\n",
      "|      0|          Add Friend|       3641|\n",
      "|      1|     Add to Playlist|       1038|\n",
      "|      0|     Add to Playlist|       5488|\n",
      "|      1|              Cancel|         52|\n",
      "|      1|Cancellation Conf...|         52|\n",
      "|      0|           Downgrade|       1718|\n",
      "|      1|           Downgrade|        337|\n",
      "|      0|               Error|        220|\n",
      "|      1|               Error|         32|\n",
      "|      0|                Help|       1215|\n",
      "|      1|                Help|        239|\n",
      "|      0|                Home|       8410|\n",
      "|      1|                Home|       1672|\n",
      "|      1|              Logout|        553|\n",
      "|      0|              Logout|       2673|\n",
      "|      1|            NextSong|      36394|\n",
      "|      0|            NextSong|     191714|\n",
      "+-------+--------------------+-----------+\n",
      "only showing top 20 rows\n",
      "\n"
     ]
    }
   ],
   "source": [
    "df.groupby(['churned','page']).agg({'page':'count'}).orderBy('page').show()"
   ]
  },
  {
   "cell_type": "code",
   "execution_count": 27,
   "metadata": {},
   "outputs": [],
   "source": [
    "page_grouped = df.groupby(['churned','page']).agg({'page':'count'}).orderBy('page').toPandas()"
   ]
  },
  {
   "cell_type": "code",
   "execution_count": 28,
   "metadata": {},
   "outputs": [],
   "source": [
    "# remove 'cancel' and 'cancel confirmation' as it is not in the churned 0 df\n",
    "page_grouped = page_grouped[(page_grouped.page != 'Cancel')]\n",
    "page_grouped = page_grouped[(page_grouped.page != 'Cancellation Confirmation')]"
   ]
  },
  {
   "cell_type": "code",
   "execution_count": 29,
   "metadata": {},
   "outputs": [
    {
     "data": {
      "image/png": "[encoded data removed]",
      "text/plain": [
       "<matplotlib.figure.Figure at 0x7f86dd1d6e80>"
      ]
     },
     "metadata": {
      "needs_background": "light"
     },
     "output_type": "display_data"
    }
   ],
   "source": [
    "page_grouped[page_grouped.churned == 1].set_index('page').drop('churned', axis=1).plot(kind='bar',\n",
    "                                                                                       figsize=(10,5),\n",
    "                                                                                      title='Page Churn 1',\n",
    "                                                                                      ylim=(0,2500));"
   ]
  },
  {
   "cell_type": "code",
   "execution_count": 30,
   "metadata": {},
   "outputs": [
    {
     "data": {
      "image/png": "[encoded data removed]",
      "text/plain": [
       "<matplotlib.figure.Figure at 0x7f86d0645ac8>"
      ]
     },
     "metadata": {
      "needs_background": "light"
     },
     "output_type": "display_data"
    }
   ],
   "source": [
    "page_grouped[page_grouped.churned == 0].set_index('page').drop('churned', axis=1).plot(kind='bar',\n",
    "                                                                                       figsize=(10,5),\n",
    "                                                                                      title='Page Churn 0',\n",
    "                                                                                      ylim=(0,15000));"
   ]
  },
  {
   "cell_type": "markdown",
   "metadata": {},
   "source": [
    "From we can see with our findings, `churn 0` has more counts because of the distribution. However, we can see that other statistics are basically the same in comparison with each other."
   ]
  },
  {
   "cell_type": "code",
   "execution_count": 31,
   "metadata": {},
   "outputs": [
    {
     "name": "stdout",
     "output_type": "stream",
     "text": [
      "+------+---------+-----+\n",
      "|userId|sessionId|count|\n",
      "+------+---------+-----+\n",
      "|    91|     1840| 1282|\n",
      "|   115|      316| 1080|\n",
      "|   101|      635|  855|\n",
      "|   120|      731|  758|\n",
      "|   138|     2305|  699|\n",
      "|    25|      827|  695|\n",
      "|300002|      436|  676|\n",
      "|    23|     2056|  668|\n",
      "|   140|     1483|  656|\n",
      "|    41|      377|  645|\n",
      "|    62|     1150|  642|\n",
      "|    61|      529|  637|\n",
      "|   136|     2150|  631|\n",
      "|    85|     1429|  627|\n",
      "|    29|     1455|  615|\n",
      "|    96|     1446|  602|\n",
      "|    51|      236|  599|\n",
      "|100008|      132|  591|\n",
      "|    85|     2266|  588|\n",
      "|    96|     2300|  583|\n",
      "+------+---------+-----+\n",
      "only showing top 20 rows\n",
      "\n"
     ]
    }
   ],
   "source": [
    "df.groupby(['userId','sessionId']).count().orderBy('count', ascending=False).show()"
   ]
  },
  {
   "cell_type": "markdown",
   "metadata": {},
   "source": [
    "Above, we can see the amount of actions or pages that a user would have been on at one time. For example, we can see that user `91` is the highest, which would mean they were on the site for `1282` actions. This means that they could have been playing songs, or other actions."
   ]
  },
  {
   "cell_type": "code",
   "execution_count": 32,
   "metadata": {},
   "outputs": [
    {
     "name": "stdout",
     "output_type": "stream",
     "text": [
      "+------+-------+-----+\n",
      "|userId|churned|count|\n",
      "+------+-------+-----+\n",
      "|    39|      0| 8002|\n",
      "|    92|      0| 5945|\n",
      "|   140|      0| 5664|\n",
      "|300011|      0| 4619|\n",
      "|   124|      0| 4079|\n",
      "|300021|      0| 3816|\n",
      "|300017|      0| 3632|\n",
      "|    85|      0| 3616|\n",
      "|    42|      0| 3573|\n",
      "|     6|      0| 3159|\n",
      "|    29|      1| 3028|\n",
      "|200023|      0| 2955|\n",
      "|    54|      1| 2841|\n",
      "|   100|      0| 2682|\n",
      "|     9|      0| 2676|\n",
      "|    91|      0| 2580|\n",
      "|   126|      0| 2577|\n",
      "|300015|      0| 2524|\n",
      "|    98|      0| 2401|\n",
      "|    74|      0| 2400|\n",
      "+------+-------+-----+\n",
      "only showing top 20 rows\n",
      "\n"
     ]
    }
   ],
   "source": [
    "df.where(df.page == 'NextSong').groupby(['userId','churned']).count().orderBy('count', ascending=False).show()"
   ]
  },
  {
   "cell_type": "code",
   "execution_count": 33,
   "metadata": {},
   "outputs": [
    {
     "name": "stdout",
     "output_type": "stream",
     "text": [
      "+------+-------+-----+\n",
      "|userId|churned|count|\n",
      "+------+-------+-----+\n",
      "|   156|      0|    3|\n",
      "|   135|      0|    6|\n",
      "|   125|      1|    8|\n",
      "|100011|      1|   11|\n",
      "|100024|      1|   22|\n",
      "|100006|      1|   26|\n",
      "|300003|      0|   27|\n",
      "|    22|      0|   28|\n",
      "|    68|      0|   29|\n",
      "|   133|      0|   32|\n",
      "|    90|      0|   37|\n",
      "|   134|      0|   37|\n",
      "|   122|      1|   41|\n",
      "|    64|      0|   46|\n",
      "|100003|      1|   51|\n",
      "|100017|      1|   52|\n",
      "|    34|      0|   53|\n",
      "|100019|      1|   62|\n",
      "|   116|      0|   63|\n",
      "|200007|      0|   65|\n",
      "+------+-------+-----+\n",
      "only showing top 20 rows\n",
      "\n"
     ]
    }
   ],
   "source": [
    "df.where(df.page == 'NextSong').groupby(['userId','churned']).count().orderBy('count', ascending=True).show()"
   ]
  },
  {
   "cell_type": "markdown",
   "metadata": {},
   "source": [
    "Now, if we look at the reverse, there are more who have churned. This just gives some evidence that persons who have churned play less songs than those who have not. This is not conclusive, but shows that it may be helpful in being a feature."
   ]
  },
  {
   "cell_type": "markdown",
   "metadata": {},
   "source": [
    "Above the users with the most songs played and showing whether they have **churned** or not. We can see for the top users the majority have not churned."
   ]
  },
  {
   "cell_type": "markdown",
   "metadata": {},
   "source": [
    "# Feature Engineering\n",
    "Once you've familiarized yourself with the data, build out the features you find promising to train your model on. To work with the full dataset, you can follow the following steps.\n",
    "- Write a script to extract the necessary features from the smaller subset of data\n",
    "- Ensure that your script is scalable, using the best practices discussed in Lesson 3\n",
    "- Try your script on the full data set, debugging your script if necessary\n",
    "\n",
    "If you are working in the classroom workspace, you can just extract features based on the small subset of data contained here. Be sure to transfer over this work to the larger dataset when you work on your Spark cluster."
   ]
  },
  {
   "cell_type": "markdown",
   "metadata": {},
   "source": [
    "Columns to be used:\n",
    "- Gender: string (M/F)\n",
    "- Length\n",
    "- Level (Paid/Free)\n",
    "- Page: Has to be explored more because there are a number of categories in here to use.\n",
    "- NextSong: create a udf so that it can show the amount of `nextSongs` played.\n",
    "\n",
    "\n"
   ]
  },
  {
   "cell_type": "code",
   "execution_count": 34,
   "metadata": {},
   "outputs": [],
   "source": [
    "male_female = udf(lambda x: 1 if x == \"M\" else 0, IntegerType())\n",
    "paid_free = udf(lambda x: 1 if x == \"Paid\" else 0, IntegerType())\n",
    "next_song = udf(lambda x: 1 if x == \"NextSong\" else 0, IntegerType())"
   ]
  },
  {
   "cell_type": "code",
   "execution_count": 35,
   "metadata": {},
   "outputs": [],
   "source": [
    "# df = df.withColumn('male_female', male_female('gender'))\n",
    "# df = df.withColumn('paid_free', paid_free('level'))\n",
    "df = df.withColumn('next_song', next_song('page'))"
   ]
  },
  {
   "cell_type": "code",
   "execution_count": 36,
   "metadata": {},
   "outputs": [
    {
     "name": "stdout",
     "output_type": "stream",
     "text": [
      "+--------------+------+\n",
      "|genderCatindex| count|\n",
      "+--------------+------+\n",
      "|           0.0|154578|\n",
      "|           1.0|123576|\n",
      "+--------------+------+\n",
      "\n"
     ]
    }
   ],
   "source": [
    "# lets use string index for the gender\n",
    "from pyspark.ml.feature import StringIndexer\n",
    "indexer = StringIndexer(inputCol='gender', outputCol='genderCatIndex')\n",
    "df = indexer.fit(df).transform(df)\n",
    "df.groupby('genderCatindex').count().show()"
   ]
  },
  {
   "cell_type": "code",
   "execution_count": 37,
   "metadata": {},
   "outputs": [
    {
     "name": "stdout",
     "output_type": "stream",
     "text": [
      "+------------+------+\n",
      "|pageCatIndex| count|\n",
      "+------------+------+\n",
      "|         8.0|  2055|\n",
      "|         0.0|228108|\n",
      "|         7.0|  2546|\n",
      "|        18.0|    52|\n",
      "|         1.0| 12551|\n",
      "|         4.0|  4277|\n",
      "|        11.0|   499|\n",
      "|        14.0|   252|\n",
      "|         3.0|  6526|\n",
      "|         2.0| 10082|\n",
      "|        17.0|    52|\n",
      "|        10.0|  1454|\n",
      "|        13.0|   310|\n",
      "|         6.0|  3226|\n",
      "|         5.0|  3933|\n",
      "|        15.0|   159|\n",
      "|         9.0|  1514|\n",
      "|        16.0|    63|\n",
      "|        12.0|   495|\n",
      "+------------+------+\n",
      "\n"
     ]
    }
   ],
   "source": [
    "# use StringIndexer on page column\n",
    "level_indexer = StringIndexer(inputCol='page', outputCol='pageCatIndex')\n",
    "df = level_indexer.fit(df).transform(df)\n",
    "df.groupby('pageCatIndex').count().show()"
   ]
  },
  {
   "cell_type": "code",
   "execution_count": 38,
   "metadata": {},
   "outputs": [
    {
     "name": "stdout",
     "output_type": "stream",
     "text": [
      "+-------------+------+\n",
      "|levelCatindex| count|\n",
      "+-------------+------+\n",
      "|          0.0|222433|\n",
      "|          1.0| 55721|\n",
      "+-------------+------+\n",
      "\n"
     ]
    }
   ],
   "source": [
    "# lets use string index for the gender\n",
    "from pyspark.ml.feature import StringIndexer\n",
    "indexer = StringIndexer(inputCol='level', outputCol='levelCatIndex')\n",
    "df = indexer.fit(df).transform(df)\n",
    "df.groupby('levelCatindex').count().show()"
   ]
  },
  {
   "cell_type": "code",
   "execution_count": null,
   "metadata": {},
   "outputs": [],
   "source": []
  },
  {
   "cell_type": "markdown",
   "metadata": {},
   "source": [
    "# Modeling\n",
    "Split the full dataset into train, test, and validation sets. Test out several of the machine learning methods you learned. Evaluate the accuracy of the various models, tuning parameters as necessary. Determine your winning model based on test accuracy and report results on the validation set. Since the churned users are a fairly small subset, I suggest using F1 score as the metric to optimize."
   ]
  },
  {
   "cell_type": "markdown",
   "metadata": {},
   "source": [
    "As can be seen above, using Logistic Regression, we are getting `84%` accuracy without any parameter tuning. This algorithm seems so far to be getting good results. However, as we will continue to see these results are not accurate. "
   ]
  },
  {
   "cell_type": "markdown",
   "metadata": {},
   "source": [
    "As we can see above with all of the models, we are getting the exact same results. This is because there is an imbalance as it pertains to churn. As we can see, in the dataset is not predicting any to be churned. This is because of the difference between churn and non churn. To correct this we would have to do some downsampling."
   ]
  },
  {
   "cell_type": "markdown",
   "metadata": {},
   "source": [
    "### Downsample"
   ]
  },
  {
   "cell_type": "code",
   "execution_count": 39,
   "metadata": {},
   "outputs": [
    {
     "name": "stdout",
     "output_type": "stream",
     "text": [
      "+-------+------+\n",
      "|churned| count|\n",
      "+-------+------+\n",
      "|      1| 44864|\n",
      "|      0|233290|\n",
      "+-------+------+\n",
      "\n"
     ]
    }
   ],
   "source": [
    "df.groupby('churned').count().show()"
   ]
  },
  {
   "cell_type": "markdown",
   "metadata": {},
   "source": [
    "Here is the imbalance of churn. `44,864:233,290`."
   ]
  },
  {
   "cell_type": "code",
   "execution_count": 40,
   "metadata": {},
   "outputs": [],
   "source": [
    "churn = df.groupby(['churned']).agg({'churned':'count'}).toPandas()"
   ]
  },
  {
   "cell_type": "code",
   "execution_count": 41,
   "metadata": {},
   "outputs": [
    {
     "data": {
      "text/html": [
       "<div>\n",
       "<style scoped>\n",
       "    .dataframe tbody tr th:only-of-type {\n",
       "        vertical-align: middle;\n",
       "    }\n",
       "\n",
       "    .dataframe tbody tr th {\n",
       "        vertical-align: top;\n",
       "    }\n",
       "\n",
       "    .dataframe thead th {\n",
       "        text-align: right;\n",
       "    }\n",
       "</style>\n",
       "<table border=\"1\" class=\"dataframe\">\n",
       "  <thead>\n",
       "    <tr style=\"text-align: right;\">\n",
       "      <th></th>\n",
       "      <th>churned</th>\n",
       "      <th>count(churned)</th>\n",
       "    </tr>\n",
       "  </thead>\n",
       "  <tbody>\n",
       "    <tr>\n",
       "      <th>0</th>\n",
       "      <td>1</td>\n",
       "      <td>44864</td>\n",
       "    </tr>\n",
       "    <tr>\n",
       "      <th>1</th>\n",
       "      <td>0</td>\n",
       "      <td>233290</td>\n",
       "    </tr>\n",
       "  </tbody>\n",
       "</table>\n",
       "</div>"
      ],
      "text/plain": [
       "   churned  count(churned)\n",
       "0        1           44864\n",
       "1        0          233290"
      ]
     },
     "execution_count": 41,
     "metadata": {},
     "output_type": "execute_result"
    }
   ],
   "source": [
    "churn"
   ]
  },
  {
   "cell_type": "code",
   "execution_count": 42,
   "metadata": {},
   "outputs": [
    {
     "data": {
      "image/png": "[encoded data removed]",
      "text/plain": [
       "<matplotlib.figure.Figure at 0x7f86d054f048>"
      ]
     },
     "metadata": {
      "needs_background": "light"
     },
     "output_type": "display_data"
    }
   ],
   "source": [
    "ax = churn.set_index('churned').plot(kind='bar', title='Churn Count', legend=False);\n",
    "ax.set_xlabel(\"Churn Categories\");\n",
    "ax.set_ylabel(\"Count\");\n"
   ]
  },
  {
   "cell_type": "markdown",
   "metadata": {},
   "source": [
    "The distribution for Churn is very unbalanced. This can really throw off the modeling so we will balance this."
   ]
  },
  {
   "cell_type": "code",
   "execution_count": 43,
   "metadata": {},
   "outputs": [
    {
     "name": "stdout",
     "output_type": "stream",
     "text": [
      "+-------+-----+\n",
      "|churned|count|\n",
      "+-------+-----+\n",
      "|      1|44864|\n",
      "|      0|44888|\n",
      "+-------+-----+\n",
      "\n"
     ]
    }
   ],
   "source": [
    "df.sampleBy('churned', fractions={0:44864/233290, 1:1.0}).groupby('churned').count().show()"
   ]
  },
  {
   "cell_type": "code",
   "execution_count": 44,
   "metadata": {},
   "outputs": [],
   "source": [
    "df_balance = df.sampleBy('churned', fractions={0:44864/233290, 1:1.0})"
   ]
  },
  {
   "cell_type": "code",
   "execution_count": 45,
   "metadata": {},
   "outputs": [
    {
     "data": {
      "image/png": "[encoded data removed]",
      "text/plain": [
       "<matplotlib.figure.Figure at 0x7f86d04d3780>"
      ]
     },
     "metadata": {
      "needs_background": "light"
     },
     "output_type": "display_data"
    }
   ],
   "source": [
    "churn_balanced = df_balance.groupby(['churned']).agg({'churned':'count'}).toPandas()\n",
    "ax = churn_balanced.set_index('churned').plot(kind='bar', title='Churn Count', legend=False);\n",
    "ax.set_xlabel(\"Churn Categories\");\n",
    "ax.set_ylabel(\"Count\");\n"
   ]
  },
  {
   "cell_type": "markdown",
   "metadata": {},
   "source": [
    "We downsampled the dataset so that the `churn` category can be more balanced."
   ]
  },
  {
   "cell_type": "code",
   "execution_count": 46,
   "metadata": {},
   "outputs": [
    {
     "name": "stdout",
     "output_type": "stream",
     "text": [
      "+------+-------+-----+------------------+\n",
      "|userId|churned|level|       sum(length)|\n",
      "+------+-------+-----+------------------+\n",
      "|   156|      0| free|               0.0|\n",
      "|300014|      0| free|               0.0|\n",
      "|   153|      0| free|               0.0|\n",
      "|300009|      0| free|         200.80281|\n",
      "|   135|      0| free|         226.53342|\n",
      "|300021|      0| free|         265.87383|\n",
      "|   142|      0| free|         361.29914|\n",
      "|300003|      0| free|         436.66195|\n",
      "|    44|      0| free|          460.2771|\n",
      "|    68|      0| free|         665.18067|\n",
      "|200008|      0| free|          797.4382|\n",
      "|    60|      0| free|         952.60554|\n",
      "|   132|      0| free| 976.6120599999999|\n",
      "|300012|      0| free|        1005.24226|\n",
      "|300023|      0| free|        1034.23819|\n",
      "|   134|      0| free|        1071.12263|\n",
      "|200012|      0| free|1162.2638499999998|\n",
      "|    90|      0| free|1174.8017200000002|\n",
      "|300016|      0| free|1240.8401800000001|\n",
      "|    69|      0| free|        1300.37325|\n",
      "+------+-------+-----+------------------+\n",
      "only showing top 20 rows\n",
      "\n"
     ]
    }
   ],
   "source": [
    "# seems like there is a correlation between users who churn and the amount of time they are playing songs\n",
    "df_balance.groupby(['userId', 'churned', 'level']).sum('length').orderBy('sum(length)', ascending=True).show()"
   ]
  },
  {
   "cell_type": "markdown",
   "metadata": {},
   "source": [
    "As seen above, there is about 5 times more persons who did not churned compared to those who have churned. This creates a problem with the models and accuracy. As we have seen, there were no churn predictions because of this. To remedy this we had to downsample. We used the `sampleBy` method and now there is more of a 1:1 ratio although we lost about 188,000 records."
   ]
  },
  {
   "cell_type": "code",
   "execution_count": 47,
   "metadata": {},
   "outputs": [],
   "source": [
    "assembler = VectorAssembler(inputCols=['genderCatIndex', 'pageCatIndex', 'levelCatIndex'], outputCol=\"features\")\n",
    "df_balance_output = assembler.transform(df_balance)"
   ]
  },
  {
   "cell_type": "code",
   "execution_count": 48,
   "metadata": {},
   "outputs": [],
   "source": [
    "df_balance_training = df_balance_output.select(col('churned').alias('label'), col('features'))"
   ]
  },
  {
   "cell_type": "markdown",
   "metadata": {},
   "source": [
    "### Functions"
   ]
  },
  {
   "cell_type": "markdown",
   "metadata": {},
   "source": [
    "Below two functions will be created. a training model and score function which will show the scores in for the given model."
   ]
  },
  {
   "cell_type": "code",
   "execution_count": 195,
   "metadata": {},
   "outputs": [],
   "source": [
    "def train_model(df, model='lr'):\n",
    "    \"\"\"\n",
    "    Train a model and return predictions on test dataset\n",
    "    Args: \n",
    "        df: Dataframe\n",
    "        model: default is Logistic Regressions\n",
    "            options: 'rf': Random Forest Classifier\n",
    "                     'dt': Decision Tree Classifier\n",
    "        return: predictions dataframe containing `label`\n",
    "    \"\"\"\n",
    "    results = None\n",
    "    \n",
    "    assembler = VectorAssembler(inputCols=['genderCatIndex', 'pageCatIndex', 'levelCatIndex'], outputCol=\"features\")\n",
    "    df = assembler.transform(df)\n",
    "    \n",
    "    # rename column to label\n",
    "    df = df.withColumnRenamed('churned', 'label')\n",
    "    \n",
    "    train, test = df.randomSplit([0.8, 0.2])\n",
    "    \n",
    "    if model == 'lr':\n",
    "        model = LogisticRegression(maxIter=80, regParam=0.3, elasticNetParam=0.0)\n",
    "    if model == 'rf':\n",
    "        model = RandomForestClassifier()\n",
    "    if model == 'dt':\n",
    "        model = DecisionTreeClassifier(maxDepth=3)\n",
    "    \n",
    "    model = model.fit(train)\n",
    "    \n",
    "    # return predictions\n",
    "    results = model.transform(test)\n",
    "    \n",
    "    return results\n",
    "    \n",
    "        "
   ]
  },
  {
   "cell_type": "code",
   "execution_count": 200,
   "metadata": {},
   "outputs": [],
   "source": [
    "def scores(df):\n",
    "    df = df.toPandas()\n",
    "    \n",
    "    print(\"Accuracy Score: \", accuracy_score(df.label, df.prediction))\n",
    "    print(\"F1 Score: \", f1_score(df.label, df.prediction))"
   ]
  },
  {
   "cell_type": "markdown",
   "metadata": {},
   "source": [
    "### Logistic Regression"
   ]
  },
  {
   "cell_type": "code",
   "execution_count": 201,
   "metadata": {},
   "outputs": [],
   "source": [
    "predictions = train_model(df_balance)"
   ]
  },
  {
   "cell_type": "code",
   "execution_count": 202,
   "metadata": {},
   "outputs": [
    {
     "name": "stdout",
     "output_type": "stream",
     "text": [
      "Accuracy Score:  0.58338937458\n",
      "F1 Score:  0.625189069275\n"
     ]
    }
   ],
   "source": [
    "scores(predictions)"
   ]
  },
  {
   "cell_type": "markdown",
   "metadata": {},
   "source": [
    "### Random Forest Classifier"
   ]
  },
  {
   "cell_type": "code",
   "execution_count": 203,
   "metadata": {},
   "outputs": [],
   "source": [
    "predictions_rf = train_model(df_balance, model='rf')"
   ]
  },
  {
   "cell_type": "code",
   "execution_count": 204,
   "metadata": {},
   "outputs": [
    {
     "name": "stdout",
     "output_type": "stream",
     "text": [
      "Accuracy Score:  0.583156365262\n",
      "F1 Score:  0.62223347683\n"
     ]
    }
   ],
   "source": [
    "scores(predictions_rf)"
   ]
  },
  {
   "cell_type": "markdown",
   "metadata": {},
   "source": [
    "### Decision Tree Classifier"
   ]
  },
  {
   "cell_type": "code",
   "execution_count": 205,
   "metadata": {},
   "outputs": [
    {
     "name": "stdout",
     "output_type": "stream",
     "text": [
      "Accuracy Score:  0.575144508671\n",
      "F1 Score:  0.61634209998\n"
     ]
    }
   ],
   "source": [
    "predictions_dt = train_model(df_balance, model='dt')\n",
    "scores(predictions_dt)"
   ]
  },
  {
   "cell_type": "code",
   "execution_count": 206,
   "metadata": {},
   "outputs": [
    {
     "name": "stdout",
     "output_type": "stream",
     "text": [
      "******Model Scores******\n",
      "Logistic Regression\n",
      "Accuracy Score:  0.58338937458\n",
      "F1 Score:  0.625189069275\n",
      "None\n",
      "Random Forest Classifier\n",
      "Accuracy Score:  0.583156365262\n",
      "F1 Score:  0.62223347683\n",
      "None\n",
      "Decision Tree Classifier\n",
      "Accuracy Score:  0.575144508671\n",
      "F1 Score:  0.61634209998\n",
      "None\n"
     ]
    }
   ],
   "source": [
    "print(\"******Model Scores******\")\n",
    "print(\"Logistic Regression\")\n",
    "print(scores(predictions))\n",
    "print(\"Random Forest Classifier\")\n",
    "print(scores(predictions_rf))\n",
    "print(\"Decision Tree Classifier\")\n",
    "print(scores(predictions_dt))"
   ]
  },
  {
   "cell_type": "markdown",
   "metadata": {},
   "source": [
    "--------"
   ]
  },
  {
   "cell_type": "markdown",
   "metadata": {},
   "source": [
    "### Improvements: Model Tuning"
   ]
  },
  {
   "cell_type": "code",
   "execution_count": 229,
   "metadata": {},
   "outputs": [],
   "source": [
    "training, testing = df_balance.randomSplit([0.8, 0.2])"
   ]
  },
  {
   "cell_type": "code",
   "execution_count": 230,
   "metadata": {},
   "outputs": [],
   "source": [
    "training = training.withColumnRenamed('churned', 'label')\n",
    "testing = testing.withColumnRenamed('churned', 'label')"
   ]
  },
  {
   "cell_type": "code",
   "execution_count": 231,
   "metadata": {},
   "outputs": [],
   "source": [
    "indexer = StringIndexer(inputCol='gender', outputCol='genderCatIndexy')\n",
    "level_indexer = StringIndexer(inputCol='page', outputCol='pageCatIndexy')\n",
    "si = StringIndexer(inputCol='level', outputCol='levelCatIndexy')\n",
    "assembler = VectorAssembler(inputCols=['genderCatIndexy', 'pageCatIndexy', 'levelCatIndexy'], outputCol=\"features\")\n",
    "logistic_r = LogisticRegression(maxIter=10, regParam=0.0, elasticNetParam=0, labelCol='churned')"
   ]
  },
  {
   "cell_type": "code",
   "execution_count": 207,
   "metadata": {},
   "outputs": [],
   "source": [
    "logistic_r = LogisticRegression()"
   ]
  },
  {
   "cell_type": "code",
   "execution_count": 232,
   "metadata": {},
   "outputs": [],
   "source": [
    "paramGrid = ParamGridBuilder()\\\n",
    "    .addGrid(logistic_r.regParam, [0.1, 0.01, 0.5, 0.9])\\\n",
    "    .addGrid(logistic_r.fitIntercept, [True, False])\\\n",
    "    .addGrid(logistic_r.maxIter, [1,10,100])\\\n",
    "    .addGrid(logistic_r.threshold, [0.5, 0.1, 0.8])\\\n",
    "    .build()\n",
    "\n",
    "\n",
    "crossval = CrossValidator(estimator=pipeline,\n",
    "                         estimatorParamMaps=paramGrid,\n",
    "                         evaluator=MulticlassClassificationEvaluator(),\n",
    "                          numFolds=3)\n",
    "\n",
    "model = crossval.fit(training)\n",
    "\n",
    "preds = model.transform(testing)"
   ]
  },
  {
   "cell_type": "code",
   "execution_count": 214,
   "metadata": {},
   "outputs": [
    {
     "data": {
      "text/plain": [
       "0.583655624684715"
      ]
     },
     "execution_count": 214,
     "metadata": {},
     "output_type": "execute_result"
    }
   ],
   "source": [
    "preds.filter(preds.label == preds.prediction).count() / preds.count()"
   ]
  },
  {
   "cell_type": "code",
   "execution_count": 234,
   "metadata": {},
   "outputs": [
    {
     "name": "stdout",
     "output_type": "stream",
     "text": [
      "Accuracy Score:  0.584041601431\n",
      "F1 Score:  0.627547188705\n"
     ]
    }
   ],
   "source": [
    "scores(preds)"
   ]
  },
  {
   "cell_type": "markdown",
   "metadata": {},
   "source": [
    "As we can see from above, we performed some model tuning on Logistic Regression and obtained the highest score we have had so far, which is `0.627`. This is not a huge difference in performance. To do additional performance enhancements, we can possibly extract more features."
   ]
  },
  {
   "cell_type": "markdown",
   "metadata": {},
   "source": [
    "### Conclusion"
   ]
  },
  {
   "cell_type": "markdown",
   "metadata": {},
   "source": [
    "For this project, we have had to classify customers who have churned. Not only have we had to classify these customers but we had to build a model that would make predictions.\n",
    "\n",
    "The approach taken to this problem was to firstly define what churn is. This was defined by using the event of `Cancellation Confirmation`. If the user cancelled their service, they were defined as churn.\n",
    "\n",
    "After defining churn, some features were extracted such as `gender` and `level`. These features were used and a model was trained and it was used to make predictions. The accuracy score of the using the *Logistic Regression* training model was **58%**.\n",
    "\n",
    "Overall, this score was ok, but could be improved. This could possibly be done by extracting more features."
   ]
  },
  {
   "cell_type": "markdown",
   "metadata": {},
   "source": [
    "# Final Steps\n",
    "Clean up your code, adding comments and renaming variables to make the code easier to read and maintain. Refer to the Spark Project Overview page and Data Scientist Capstone Project Rubric to make sure you are including all components of the capstone project and meet all expectations. Remember, this includes thorough documentation in a README file in a Github repository, as well as a web app or blog post."
   ]
  },
  {
   "cell_type": "code",
   "execution_count": null,
   "metadata": {},
   "outputs": [],
   "source": []
  }
 ],
 "metadata": {
  "kernelspec": {
   "display_name": "Python 3",
   "language": "python",
   "name": "python3"
  },
  "language_info": {
   "codemirror_mode": {
    "name": "ipython",
    "version": 3
   },
   "file_extension": ".py",
   "mimetype": "text/x-python",
   "name": "python",
   "nbconvert_exporter": "python",
   "pygments_lexer": "ipython3",
   "version": "3.6.3"
  }
 },
 "nbformat": 4,
 "nbformat_minor": 2
}
