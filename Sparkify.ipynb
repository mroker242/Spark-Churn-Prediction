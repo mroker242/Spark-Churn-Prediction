{
 "cells": [
  {
   "cell_type": "markdown",
   "metadata": {},
   "source": [
    "# Sparkify Project Workspace\n",
    "This workspace contains a tiny subset (128MB) of the full dataset available (12GB). Feel free to use this workspace to build your project, or to explore a smaller subset with Spark before deploying your cluster on the cloud. Instructions for setting up your Spark cluster is included in the last lesson of the Extracurricular Spark Course content.\n",
    "\n",
    "You can follow the steps below to guide your data analysis and model building portion of this project."
   ]
  },
  {
   "cell_type": "code",
   "execution_count": 86,
   "metadata": {},
   "outputs": [],
   "source": [
    "# import libraries\n",
    "from pyspark.sql import SparkSession\n",
    "from pyspark.sql.functions import avg, col, concat, count, desc, explode, lit, udf, split\n",
    "from pyspark.sql.types import IntegerType\n",
    "from pyspark.sql.functions import unix_timestamp\n",
    "from pyspark.sql import functions as f\n",
    "from pyspark.sql import types as t\n",
    "from pyspark.ml.classification import LogisticRegression\n",
    "from pyspark.ml.feature import VectorAssembler\n",
    "from pyspark.ml.tuning import CrossValidator, ParamGridBuilder\n",
    "from pyspark.ml.classification import DecisionTreeClassifier\n",
    "from pyspark.mllib.util import MLUtils\n",
    "from pyspark.mllib.evaluation import MulticlassMetrics\n",
    "\n",
    "\n"
   ]
  },
  {
   "cell_type": "code",
   "execution_count": 87,
   "metadata": {},
   "outputs": [],
   "source": [
    "# create a Spark session\n",
    "spark = SparkSession.builder \\\n",
    "    .master(\"local\") \\\n",
    "    .appName(\"Churn Prediction\") \\\n",
    "    .getOrCreate()"
   ]
  },
  {
   "cell_type": "markdown",
   "metadata": {},
   "source": [
    "# Load and Clean Dataset\n",
    "In this workspace, the mini-dataset file is `mini_sparkify_event_data.json`. Load and clean the dataset, checking for invalid or missing data - for example, records without userids or sessionids. "
   ]
  },
  {
   "cell_type": "code",
   "execution_count": 88,
   "metadata": {},
   "outputs": [],
   "source": [
    "sparkify_data = 'mini_sparkify_event_data.json'"
   ]
  },
  {
   "cell_type": "code",
   "execution_count": 89,
   "metadata": {},
   "outputs": [
    {
     "data": {
      "text/plain": [
       "DataFrame[artist: string, auth: string, firstName: string, gender: string, itemInSession: bigint, lastName: string, length: double, level: string, location: string, method: string, page: string, registration: bigint, sessionId: bigint, song: string, status: bigint, ts: bigint, userAgent: string, userId: string]"
      ]
     },
     "execution_count": 89,
     "metadata": {},
     "output_type": "execute_result"
    }
   ],
   "source": [
    "df = spark.read.json(sparkify_data)\n",
    "df.persist()"
   ]
  },
  {
   "cell_type": "code",
   "execution_count": 90,
   "metadata": {},
   "outputs": [
    {
     "data": {
      "text/plain": [
       "Row(artist='Martha Tilston', auth='Logged In', firstName='Colin', gender='M', itemInSession=50, lastName='Freeman', length=277.89016, level='paid', location='Bakersfield, CA', method='PUT', page='NextSong', registration=1538173362000, sessionId=29, song='Rockpools', status=200, ts=1538352117000, userAgent='Mozilla/5.0 (Windows NT 6.1; WOW64; rv:31.0) Gecko/20100101 Firefox/31.0', userId='30')"
      ]
     },
     "execution_count": 90,
     "metadata": {},
     "output_type": "execute_result"
    }
   ],
   "source": [
    "df.head()"
   ]
  },
  {
   "cell_type": "code",
   "execution_count": 91,
   "metadata": {},
   "outputs": [
    {
     "name": "stdout",
     "output_type": "stream",
     "text": [
      "root\n",
      " |-- artist: string (nullable = true)\n",
      " |-- auth: string (nullable = true)\n",
      " |-- firstName: string (nullable = true)\n",
      " |-- gender: string (nullable = true)\n",
      " |-- itemInSession: long (nullable = true)\n",
      " |-- lastName: string (nullable = true)\n",
      " |-- length: double (nullable = true)\n",
      " |-- level: string (nullable = true)\n",
      " |-- location: string (nullable = true)\n",
      " |-- method: string (nullable = true)\n",
      " |-- page: string (nullable = true)\n",
      " |-- registration: long (nullable = true)\n",
      " |-- sessionId: long (nullable = true)\n",
      " |-- song: string (nullable = true)\n",
      " |-- status: long (nullable = true)\n",
      " |-- ts: long (nullable = true)\n",
      " |-- userAgent: string (nullable = true)\n",
      " |-- userId: string (nullable = true)\n",
      "\n"
     ]
    }
   ],
   "source": [
    "df.printSchema()"
   ]
  },
  {
   "cell_type": "code",
   "execution_count": 92,
   "metadata": {},
   "outputs": [
    {
     "data": {
      "text/plain": [
       "8346"
      ]
     },
     "execution_count": 92,
     "metadata": {},
     "output_type": "execute_result"
    }
   ],
   "source": [
    "len(df.select(['userId','sessionId','artist','song']).where(df.userId == '').collect())"
   ]
  },
  {
   "cell_type": "code",
   "execution_count": 93,
   "metadata": {},
   "outputs": [
    {
     "data": {
      "text/plain": [
       "0"
      ]
     },
     "execution_count": 93,
     "metadata": {},
     "output_type": "execute_result"
    }
   ],
   "source": [
    "len(df.select(['userId','sessionId','artist','song']).where(df.sessionId.isNull()).collect())"
   ]
  },
  {
   "cell_type": "code",
   "execution_count": 94,
   "metadata": {},
   "outputs": [],
   "source": [
    "df = df.where(df.userId != '')"
   ]
  },
  {
   "cell_type": "code",
   "execution_count": null,
   "metadata": {},
   "outputs": [],
   "source": []
  },
  {
   "cell_type": "code",
   "execution_count": 95,
   "metadata": {},
   "outputs": [
    {
     "data": {
      "text/plain": [
       "278154"
      ]
     },
     "execution_count": 95,
     "metadata": {},
     "output_type": "execute_result"
    }
   ],
   "source": [
    "df.count()"
   ]
  },
  {
   "cell_type": "code",
   "execution_count": 96,
   "metadata": {},
   "outputs": [
    {
     "data": {
      "text/plain": [
       "[]"
      ]
     },
     "execution_count": 96,
     "metadata": {},
     "output_type": "execute_result"
    }
   ],
   "source": [
    "df.select(['userId', 'sessionId', 'artist']).where(df.gender == '').collect()"
   ]
  },
  {
   "cell_type": "code",
   "execution_count": 97,
   "metadata": {},
   "outputs": [
    {
     "data": {
      "text/plain": [
       "[]"
      ]
     },
     "execution_count": 97,
     "metadata": {},
     "output_type": "execute_result"
    }
   ],
   "source": [
    "df.select(['userId', 'sessionId', 'artist']).where(df.gender.isNull()).collect()"
   ]
  },
  {
   "cell_type": "code",
   "execution_count": 98,
   "metadata": {},
   "outputs": [
    {
     "data": {
      "text/plain": [
       "[]"
      ]
     },
     "execution_count": 98,
     "metadata": {},
     "output_type": "execute_result"
    }
   ],
   "source": [
    "df.select(['userId', 'sessionId', 'artist']).where(df.page == '').collect()"
   ]
  },
  {
   "cell_type": "code",
   "execution_count": null,
   "metadata": {},
   "outputs": [],
   "source": []
  },
  {
   "cell_type": "markdown",
   "metadata": {},
   "source": [
    "**My Notes**: As we can see, there were `8,346` missing `userId` records in this dataset. For this, we removed the rows where these were missing."
   ]
  },
  {
   "cell_type": "markdown",
   "metadata": {},
   "source": [
    "# Exploratory Data Analysis\n",
    "When you're working with the full dataset, perform EDA by loading a small subset of the data and doing basic manipulations within Spark. In this workspace, you are already provided a small subset of data you can explore.\n",
    "\n",
    "### Define Churn\n",
    "\n",
    "Once you've done some preliminary analysis, create a column `Churn` to use as the label for your model. I suggest using the `Cancellation Confirmation` events to define your churn, which happen for both paid and free users. As a bonus task, you can also look into the `Downgrade` events.\n",
    "\n",
    "### Explore Data\n",
    "Once you've defined churn, perform some exploratory data analysis to observe the behavior for users who stayed vs users who churned. You can start by exploring aggregates on these two groups of users, observing how much of a specific action they experienced per a certain time unit or number of songs played."
   ]
  },
  {
   "cell_type": "code",
   "execution_count": 99,
   "metadata": {},
   "outputs": [
    {
     "name": "stdout",
     "output_type": "stream",
     "text": [
      "+-------------+\n",
      "|           ts|\n",
      "+-------------+\n",
      "|1538352117000|\n",
      "|1538352180000|\n",
      "|1538352394000|\n",
      "|1538352416000|\n",
      "|1538352676000|\n",
      "|1538352678000|\n",
      "|1538352886000|\n",
      "|1538352899000|\n",
      "|1538352905000|\n",
      "|1538353084000|\n",
      "+-------------+\n",
      "only showing top 10 rows\n",
      "\n"
     ]
    }
   ],
   "source": [
    "df.select('ts').show(10)"
   ]
  },
  {
   "cell_type": "code",
   "execution_count": 100,
   "metadata": {},
   "outputs": [],
   "source": [
    "df = df.withColumn('datetime', f.date_format(df.ts.cast(dataType=t.TimestampType()), \"yyyy-MM-dd HH:mm:ss.SSS z\"))\n"
   ]
  },
  {
   "cell_type": "code",
   "execution_count": null,
   "metadata": {},
   "outputs": [],
   "source": []
  },
  {
   "cell_type": "code",
   "execution_count": 101,
   "metadata": {},
   "outputs": [
    {
     "name": "stdout",
     "output_type": "stream",
     "text": [
      "+--------------------+\n",
      "|                page|\n",
      "+--------------------+\n",
      "|               About|\n",
      "|          Add Friend|\n",
      "|     Add to Playlist|\n",
      "|              Cancel|\n",
      "|Cancellation Conf...|\n",
      "|           Downgrade|\n",
      "|               Error|\n",
      "|                Help|\n",
      "|                Home|\n",
      "|              Logout|\n",
      "|            NextSong|\n",
      "|         Roll Advert|\n",
      "|       Save Settings|\n",
      "|            Settings|\n",
      "|    Submit Downgrade|\n",
      "|      Submit Upgrade|\n",
      "|         Thumbs Down|\n",
      "|           Thumbs Up|\n",
      "|             Upgrade|\n",
      "+--------------------+\n",
      "\n"
     ]
    }
   ],
   "source": [
    "df.select('page').dropDuplicates().sort(\"page\").show()"
   ]
  },
  {
   "cell_type": "code",
   "execution_count": 102,
   "metadata": {},
   "outputs": [
    {
     "name": "stdout",
     "output_type": "stream",
     "text": [
      "Cancel Confirmation Total Count:  52\n",
      "Users on the system:  225\n",
      "Cancel confirmation users:  52\n"
     ]
    }
   ],
   "source": [
    "# Explore how many users are actually on the system, and how many have went on the page 'Cancellation Confirmation'\n",
    "\n",
    "# groupby user and also by cancellation confirmation\n",
    "print(\"Cancel Confirmation Total Count: \", df.filter(df['page'] == 'Cancellation Confirmation').count())\n",
    "\n",
    "# how many users are on the system?\n",
    "print(\"Users on the system: \", len(df.select('userId').dropDuplicates().collect()))\n",
    "\n",
    "\n",
    "print(\"Cancel confirmation users: \", len(df.select('userId').filter(df['page'] == 'Cancellation Confirmation').collect()))\n"
   ]
  },
  {
   "cell_type": "markdown",
   "metadata": {},
   "source": [
    "**My Notes:** Above, we can confirm that 52 users have cancelled the service. We can also confirm that 226 users are using the service. These are all unique users on the system. Going forward, we can say that when a person goes to the `Cancel Confirmation` page, they are cancelling their service, thus they are **churning**. We can now move forward and create a column for the event of going to this page and label it as churn with the value of `1`."
   ]
  },
  {
   "cell_type": "code",
   "execution_count": 103,
   "metadata": {},
   "outputs": [],
   "source": [
    "# create a column called Churn and 1 being if the user ever had a Cancellation Confirmation and 0 if not\n",
    "flag_churn = udf(lambda x: 1 if x == \"Cancellation Confirmation\" else 0, IntegerType())\n",
    "\n",
    "df = df.withColumn(\"churned\", flag_churn(\"page\"))"
   ]
  },
  {
   "cell_type": "code",
   "execution_count": 104,
   "metadata": {},
   "outputs": [
    {
     "data": {
      "text/plain": [
       "52"
      ]
     },
     "execution_count": 104,
     "metadata": {},
     "output_type": "execute_result"
    }
   ],
   "source": [
    "df.select(['userId', 'churned']).where(df.churned == 1).count()"
   ]
  },
  {
   "cell_type": "code",
   "execution_count": 105,
   "metadata": {},
   "outputs": [],
   "source": [
    "# collect all user Id's that are churned\n",
    "userIds = []\n",
    "for userId in df.filter(df.churned == 1).select('userId').collect():\n",
    "    userIds.append(userId[0])"
   ]
  },
  {
   "cell_type": "code",
   "execution_count": 106,
   "metadata": {},
   "outputs": [],
   "source": [
    "flag_churn_2 = udf(lambda x: 1 if x in (userIds) else 0, IntegerType())"
   ]
  },
  {
   "cell_type": "code",
   "execution_count": 107,
   "metadata": {},
   "outputs": [],
   "source": [
    "df = df.withColumn(\"churned\", flag_churn_2(\"userId\"))"
   ]
  },
  {
   "cell_type": "code",
   "execution_count": 108,
   "metadata": {},
   "outputs": [
    {
     "data": {
      "text/plain": [
       "44864"
      ]
     },
     "execution_count": 108,
     "metadata": {},
     "output_type": "execute_result"
    }
   ],
   "source": [
    "df.where(df.churned == 1).count()"
   ]
  },
  {
   "cell_type": "markdown",
   "metadata": {},
   "source": [
    "**Further Notes on Marking Churn:** Above, churn is categorized by users who have cancelled. This is by them going to the page `Cancel Confirmation`. To do this, first a udf was created to change all records with the page `Cancel Confirmation` to `1`. After this, `userIds` were pulled from that selection, and thus all users who cancelled were marked as `churned` (`0` to `1`)."
   ]
  },
  {
   "cell_type": "code",
   "execution_count": 109,
   "metadata": {},
   "outputs": [
    {
     "name": "stdout",
     "output_type": "stream",
     "text": [
      "+-------+--------------------+-----------+\n",
      "|churned|                page|count(page)|\n",
      "+-------+--------------------+-----------+\n",
      "|      1|               About|         56|\n",
      "|      0|               About|        439|\n",
      "|      1|          Add Friend|        636|\n",
      "|      0|          Add Friend|       3641|\n",
      "|      1|     Add to Playlist|       1038|\n",
      "|      0|     Add to Playlist|       5488|\n",
      "|      1|              Cancel|         52|\n",
      "|      1|Cancellation Conf...|         52|\n",
      "|      0|           Downgrade|       1718|\n",
      "|      1|           Downgrade|        337|\n",
      "|      0|               Error|        220|\n",
      "|      1|               Error|         32|\n",
      "|      0|                Help|       1215|\n",
      "|      1|                Help|        239|\n",
      "|      0|                Home|       8410|\n",
      "|      1|                Home|       1672|\n",
      "|      1|              Logout|        553|\n",
      "|      0|              Logout|       2673|\n",
      "|      1|            NextSong|      36394|\n",
      "|      0|            NextSong|     191714|\n",
      "+-------+--------------------+-----------+\n",
      "only showing top 20 rows\n",
      "\n"
     ]
    }
   ],
   "source": [
    "df.groupby(['churned','page']).agg({'page':'count'}).orderBy('page').show()"
   ]
  },
  {
   "cell_type": "markdown",
   "metadata": {},
   "source": [
    "**My Notes**: A user goes on, can be paid, the same session id exists, we can see how much songs they play per session\n",
    "\n",
    "- How much songs does the user play per session?\n",
    "- How much time is the user on per session?\n",
    "\n",
    "To do these I would need to group by session and userid maybe then create a column for the time maybe?"
   ]
  },
  {
   "cell_type": "code",
   "execution_count": 111,
   "metadata": {},
   "outputs": [
    {
     "name": "stdout",
     "output_type": "stream",
     "text": [
      "+------+---------+-----+\n",
      "|userId|sessionId|count|\n",
      "+------+---------+-----+\n",
      "|    91|     1840| 1282|\n",
      "|   115|      316| 1080|\n",
      "|   101|      635|  855|\n",
      "|   120|      731|  758|\n",
      "|   138|     2305|  699|\n",
      "|    25|      827|  695|\n",
      "|300002|      436|  676|\n",
      "|    23|     2056|  668|\n",
      "|   140|     1483|  656|\n",
      "|    41|      377|  645|\n",
      "|    62|     1150|  642|\n",
      "|    61|      529|  637|\n",
      "|   136|     2150|  631|\n",
      "|    85|     1429|  627|\n",
      "|    29|     1455|  615|\n",
      "|    96|     1446|  602|\n",
      "|    51|      236|  599|\n",
      "|100008|      132|  591|\n",
      "|    85|     2266|  588|\n",
      "|    96|     2300|  583|\n",
      "+------+---------+-----+\n",
      "only showing top 20 rows\n",
      "\n"
     ]
    }
   ],
   "source": [
    "df.groupby(['userId','sessionId']).count().orderBy('count', ascending=False).show()"
   ]
  },
  {
   "cell_type": "markdown",
   "metadata": {},
   "source": [
    "Above, we can see the amount of actions or pages that a user would have been on at one time. For example, we can see that user `91` is the highest, which would mean they were on the site for `1282` actions. This means that they could have been playing songs, or other actions."
   ]
  },
  {
   "cell_type": "code",
   "execution_count": 112,
   "metadata": {},
   "outputs": [
    {
     "name": "stdout",
     "output_type": "stream",
     "text": [
      "+------+-------+-----+\n",
      "|userId|churned|count|\n",
      "+------+-------+-----+\n",
      "|    39|      0| 8002|\n",
      "|    92|      0| 5945|\n",
      "|   140|      0| 5664|\n",
      "|300011|      0| 4619|\n",
      "|   124|      0| 4079|\n",
      "|300021|      0| 3816|\n",
      "|300017|      0| 3632|\n",
      "|    85|      0| 3616|\n",
      "|    42|      0| 3573|\n",
      "|     6|      0| 3159|\n",
      "|    29|      1| 3028|\n",
      "|200023|      0| 2955|\n",
      "|    54|      1| 2841|\n",
      "|   100|      0| 2682|\n",
      "|     9|      0| 2676|\n",
      "|    91|      0| 2580|\n",
      "|   126|      0| 2577|\n",
      "|300015|      0| 2524|\n",
      "|    98|      0| 2401|\n",
      "|    74|      0| 2400|\n",
      "+------+-------+-----+\n",
      "only showing top 20 rows\n",
      "\n"
     ]
    }
   ],
   "source": [
    "df.where(df.page == 'NextSong').groupby(['userId','churned']).count().orderBy('count', ascending=False).show()"
   ]
  },
  {
   "cell_type": "code",
   "execution_count": 113,
   "metadata": {},
   "outputs": [
    {
     "name": "stdout",
     "output_type": "stream",
     "text": [
      "+------+-------+-----+\n",
      "|userId|churned|count|\n",
      "+------+-------+-----+\n",
      "|   156|      0|    3|\n",
      "|   135|      0|    6|\n",
      "|   125|      1|    8|\n",
      "|100011|      1|   11|\n",
      "|100024|      1|   22|\n",
      "|100006|      1|   26|\n",
      "|300003|      0|   27|\n",
      "|    22|      0|   28|\n",
      "|    68|      0|   29|\n",
      "|   133|      0|   32|\n",
      "|    90|      0|   37|\n",
      "|   134|      0|   37|\n",
      "|   122|      1|   41|\n",
      "|    64|      0|   46|\n",
      "|100003|      1|   51|\n",
      "|100017|      1|   52|\n",
      "|    34|      0|   53|\n",
      "|100019|      1|   62|\n",
      "|   116|      0|   63|\n",
      "|200007|      0|   65|\n",
      "+------+-------+-----+\n",
      "only showing top 20 rows\n",
      "\n"
     ]
    }
   ],
   "source": [
    "df.where(df.page == 'NextSong').groupby(['userId','churned']).count().orderBy('count', ascending=True).show()"
   ]
  },
  {
   "cell_type": "markdown",
   "metadata": {},
   "source": [
    "Now, if we look at the reverse, there are more who have churned. This just gives some evidence that persons who have churned play less songs than those who have not. This is not conclusive, but shows that it may be helpful in being a feature."
   ]
  },
  {
   "cell_type": "markdown",
   "metadata": {},
   "source": [
    "Above the users with the most songs played and showing whether they have **churned** or not. We can see for the top users the majority have not churned."
   ]
  },
  {
   "cell_type": "markdown",
   "metadata": {},
   "source": [
    "# Feature Engineering\n",
    "Once you've familiarized yourself with the data, build out the features you find promising to train your model on. To work with the full dataset, you can follow the following steps.\n",
    "- Write a script to extract the necessary features from the smaller subset of data\n",
    "- Ensure that your script is scalable, using the best practices discussed in Lesson 3\n",
    "- Try your script on the full data set, debugging your script if necessary\n",
    "\n",
    "If you are working in the classroom workspace, you can just extract features based on the small subset of data contained here. Be sure to transfer over this work to the larger dataset when you work on your Spark cluster."
   ]
  },
  {
   "cell_type": "markdown",
   "metadata": {},
   "source": [
    "Columns to be used:\n",
    "- Gender: string (M/F)\n",
    "- Length\n",
    "- Level (Paid/Free)\n",
    "- Page: Has to be explored more because there are a number of categories in here to use.\n",
    "- NextSong: create a udf so that it can show the amount of `nextSongs` played.\n",
    "\n",
    "\n"
   ]
  },
  {
   "cell_type": "code",
   "execution_count": 124,
   "metadata": {},
   "outputs": [],
   "source": [
    "male_female = udf(lambda x: 1 if x == \"M\" else 0, IntegerType())\n",
    "paid_free = udf(lambda x: 1 if x == \"Paid\" else 0, IntegerType())\n",
    "next_song = udf(lambda x: 1 if x == \"NextSong\" else 0, IntegerType())"
   ]
  },
  {
   "cell_type": "code",
   "execution_count": 125,
   "metadata": {},
   "outputs": [],
   "source": [
    "# df = df.withColumn('male_female', male_female('gender'))\n",
    "# df = df.withColumn('paid_free', paid_free('level'))\n",
    "df = df.withColumn('next_song', next_song('page'))"
   ]
  },
  {
   "cell_type": "code",
   "execution_count": 116,
   "metadata": {},
   "outputs": [
    {
     "name": "stdout",
     "output_type": "stream",
     "text": [
      "+--------------+------+\n",
      "|genderCatindex| count|\n",
      "+--------------+------+\n",
      "|           0.0|154578|\n",
      "|           1.0|123576|\n",
      "+--------------+------+\n",
      "\n"
     ]
    }
   ],
   "source": [
    "# lets use string index for the gender\n",
    "from pyspark.ml.feature import StringIndexer\n",
    "indexer = StringIndexer(inputCol='gender', outputCol='genderCatIndex')\n",
    "df = indexer.fit(df).transform(df)\n",
    "df.groupby('genderCatindex').count().show()"
   ]
  },
  {
   "cell_type": "code",
   "execution_count": 117,
   "metadata": {},
   "outputs": [
    {
     "name": "stdout",
     "output_type": "stream",
     "text": [
      "+------------+------+\n",
      "|pageCatIndex| count|\n",
      "+------------+------+\n",
      "|         8.0|  2055|\n",
      "|         0.0|228108|\n",
      "|         7.0|  2546|\n",
      "|        18.0|    52|\n",
      "|         1.0| 12551|\n",
      "|         4.0|  4277|\n",
      "|        11.0|   499|\n",
      "|        14.0|   252|\n",
      "|         3.0|  6526|\n",
      "|         2.0| 10082|\n",
      "|        17.0|    52|\n",
      "|        10.0|  1454|\n",
      "|        13.0|   310|\n",
      "|         6.0|  3226|\n",
      "|         5.0|  3933|\n",
      "|        15.0|   159|\n",
      "|         9.0|  1514|\n",
      "|        16.0|    63|\n",
      "|        12.0|   495|\n",
      "+------------+------+\n",
      "\n"
     ]
    }
   ],
   "source": [
    "# use StringIndexer on page column\n",
    "level_indexer = StringIndexer(inputCol='page', outputCol='pageCatIndex')\n",
    "df = level_indexer.fit(df).transform(df)\n",
    "df.groupby('pageCatIndex').count().show()"
   ]
  },
  {
   "cell_type": "code",
   "execution_count": 118,
   "metadata": {},
   "outputs": [
    {
     "name": "stdout",
     "output_type": "stream",
     "text": [
      "+-------------+------+\n",
      "|levelCatindex| count|\n",
      "+-------------+------+\n",
      "|          0.0|222433|\n",
      "|          1.0| 55721|\n",
      "+-------------+------+\n",
      "\n"
     ]
    }
   ],
   "source": [
    "# lets use string index for the gender\n",
    "from pyspark.ml.feature import StringIndexer\n",
    "indexer = StringIndexer(inputCol='level', outputCol='levelCatIndex')\n",
    "df = indexer.fit(df).transform(df)\n",
    "df.groupby('levelCatindex').count().show()"
   ]
  },
  {
   "cell_type": "markdown",
   "metadata": {},
   "source": [
    "# Modeling\n",
    "Split the full dataset into train, test, and validation sets. Test out several of the machine learning methods you learned. Evaluate the accuracy of the various models, tuning parameters as necessary. Determine your winning model based on test accuracy and report results on the validation set. Since the churned users are a fairly small subset, I suggest using F1 score as the metric to optimize."
   ]
  },
  {
   "cell_type": "code",
   "execution_count": 127,
   "metadata": {},
   "outputs": [],
   "source": [
    "assembler = VectorAssembler(inputCols=['next_song', 'levelCatIndex', 'pageCatIndex', 'genderCatIndex'], outputCol=\"features\")\n",
    "output = assembler.transform(df)\n"
   ]
  },
  {
   "cell_type": "code",
   "execution_count": 128,
   "metadata": {},
   "outputs": [],
   "source": [
    "training_data = output.select(col('churned').alias('label'), col('features'))"
   ]
  },
  {
   "cell_type": "code",
   "execution_count": 129,
   "metadata": {},
   "outputs": [],
   "source": [
    "# Split dataset into train, test\n",
    "train, test = training_data.randomSplit([0.8, 0.2])"
   ]
  },
  {
   "cell_type": "code",
   "execution_count": null,
   "metadata": {},
   "outputs": [],
   "source": []
  },
  {
   "cell_type": "code",
   "execution_count": 162,
   "metadata": {},
   "outputs": [
    {
     "data": {
      "text/plain": [
       "Row(label=0, features=SparseVector(4, {0: 1.0}))"
      ]
     },
     "execution_count": 162,
     "metadata": {},
     "output_type": "execute_result"
    }
   ],
   "source": [
    "test.head()"
   ]
  },
  {
   "cell_type": "markdown",
   "metadata": {},
   "source": [
    "### Logistic Regression"
   ]
  },
  {
   "cell_type": "code",
   "execution_count": 130,
   "metadata": {},
   "outputs": [],
   "source": [
    "lr = LogisticRegression(maxIter=10, regParam=0.3, elasticNetParam=0.8)\n"
   ]
  },
  {
   "cell_type": "code",
   "execution_count": 131,
   "metadata": {},
   "outputs": [],
   "source": [
    "lrModel = lr.fit(train)"
   ]
  },
  {
   "cell_type": "code",
   "execution_count": 132,
   "metadata": {},
   "outputs": [],
   "source": [
    "results = lrModel.transform(test)"
   ]
  },
  {
   "cell_type": "code",
   "execution_count": 133,
   "metadata": {},
   "outputs": [
    {
     "data": {
      "text/plain": [
       "Row(label=0, features=SparseVector(4, {0: 1.0}), rawPrediction=DenseVector([1.647, -1.647]), probability=DenseVector([0.8385, 0.1615]), prediction=0.0)"
      ]
     },
     "execution_count": 133,
     "metadata": {},
     "output_type": "execute_result"
    }
   ],
   "source": [
    "results.head()"
   ]
  },
  {
   "cell_type": "code",
   "execution_count": 134,
   "metadata": {},
   "outputs": [
    {
     "name": "stdout",
     "output_type": "stream",
     "text": [
      "46735\n"
     ]
    }
   ],
   "source": [
    "print(results.filter(results.label == results.prediction).count())"
   ]
  },
  {
   "cell_type": "code",
   "execution_count": 135,
   "metadata": {},
   "outputs": [
    {
     "name": "stdout",
     "output_type": "stream",
     "text": [
      "55665\n"
     ]
    }
   ],
   "source": [
    "print(results.count())"
   ]
  },
  {
   "cell_type": "code",
   "execution_count": 136,
   "metadata": {},
   "outputs": [
    {
     "name": "stdout",
     "output_type": "stream",
     "text": [
      "0.8395760352106351\n"
     ]
    }
   ],
   "source": [
    "print(results.filter(results.label == results.prediction).count() / results.count())"
   ]
  },
  {
   "cell_type": "code",
   "execution_count": 137,
   "metadata": {},
   "outputs": [
    {
     "data": {
      "text/plain": [
       "DenseMatrix(1, 4, [0.0, 0.0, 0.0, 0.0], 1)"
      ]
     },
     "execution_count": 137,
     "metadata": {},
     "output_type": "execute_result"
    }
   ],
   "source": [
    "lrModel.coefficientMatrix"
   ]
  },
  {
   "cell_type": "code",
   "execution_count": 138,
   "metadata": {},
   "outputs": [
    {
     "data": {
      "text/plain": [
       "0.8384908916845327"
      ]
     },
     "execution_count": 138,
     "metadata": {},
     "output_type": "execute_result"
    }
   ],
   "source": [
    "lrModel.summary.accuracy"
   ]
  },
  {
   "cell_type": "markdown",
   "metadata": {},
   "source": [
    "As can be seen above, using Logistic Regression, we are getting `84%` accuracy without any parameter tuning. This algorithm seems so far to be getting good results."
   ]
  },
  {
   "cell_type": "markdown",
   "metadata": {},
   "source": [
    "### Decision Tree Classifier"
   ]
  },
  {
   "cell_type": "code",
   "execution_count": 139,
   "metadata": {},
   "outputs": [],
   "source": [
    "dt = DecisionTreeClassifier(maxDepth=3)"
   ]
  },
  {
   "cell_type": "code",
   "execution_count": 140,
   "metadata": {},
   "outputs": [],
   "source": [
    "dtModel = dt.fit(train)"
   ]
  },
  {
   "cell_type": "code",
   "execution_count": 141,
   "metadata": {},
   "outputs": [],
   "source": [
    "predictions = dtModel.transform(test)"
   ]
  },
  {
   "cell_type": "code",
   "execution_count": 142,
   "metadata": {},
   "outputs": [],
   "source": [
    "from pyspark.ml.evaluation import BinaryClassificationEvaluator\n"
   ]
  },
  {
   "cell_type": "code",
   "execution_count": 143,
   "metadata": {},
   "outputs": [],
   "source": [
    "evaluator = BinaryClassificationEvaluator()"
   ]
  },
  {
   "cell_type": "code",
   "execution_count": 144,
   "metadata": {},
   "outputs": [
    {
     "name": "stdout",
     "output_type": "stream",
     "text": [
      "Test Area Under ROC: 0.5\n"
     ]
    }
   ],
   "source": [
    "print(\"Test Area Under ROC: \" + str(evaluator.evaluate(predictions, {evaluator.metricName: \"areaUnderROC\"})))"
   ]
  },
  {
   "cell_type": "code",
   "execution_count": 149,
   "metadata": {},
   "outputs": [
    {
     "name": "stdout",
     "output_type": "stream",
     "text": [
      "0.8395760352106351\n"
     ]
    }
   ],
   "source": [
    "print(results.filter(results.label == results.prediction).count() / results.count())"
   ]
  },
  {
   "cell_type": "code",
   "execution_count": 158,
   "metadata": {},
   "outputs": [
    {
     "name": "stdout",
     "output_type": "stream",
     "text": [
      "+-----+--------+-------------+-----------+----------+\n",
      "|label|features|rawPrediction|probability|prediction|\n",
      "+-----+--------+-------------+-----------+----------+\n",
      "+-----+--------+-------------+-----------+----------+\n",
      "\n"
     ]
    }
   ],
   "source": [
    "predictions.where(predictions.prediction == 1.0).show()"
   ]
  },
  {
   "cell_type": "markdown",
   "metadata": {},
   "source": [
    "------------\n"
   ]
  },
  {
   "cell_type": "markdown",
   "metadata": {},
   "source": [
    "### Random Forest Classifier"
   ]
  },
  {
   "cell_type": "code",
   "execution_count": null,
   "metadata": {},
   "outputs": [],
   "source": [
    "from pyspark.ml.classification import RandomForestClassifier\n",
    "rf = RandomForestClassifier(featuresCol = 'features', labelCol = 'label')"
   ]
  },
  {
   "cell_type": "code",
   "execution_count": null,
   "metadata": {},
   "outputs": [],
   "source": [
    "rfModel = rf.fit(train)\n",
    "predictions = rfModel.transform(test)"
   ]
  },
  {
   "cell_type": "code",
   "execution_count": null,
   "metadata": {},
   "outputs": [],
   "source": [
    "evaluator = BinaryClassificationEvaluator()\n",
    "print(\"Test Area Under ROC: \" + str(evaluator.evaluate(predictions, {evaluator.metricName: \"areaUnderROC\"})))"
   ]
  },
  {
   "cell_type": "markdown",
   "metadata": {},
   "source": [
    "# Final Steps\n",
    "Clean up your code, adding comments and renaming variables to make the code easier to read and maintain. Refer to the Spark Project Overview page and Data Scientist Capstone Project Rubric to make sure you are including all components of the capstone project and meet all expectations. Remember, this includes thorough documentation in a README file in a Github repository, as well as a web app or blog post."
   ]
  },
  {
   "cell_type": "code",
   "execution_count": null,
   "metadata": {},
   "outputs": [],
   "source": []
  }
 ],
 "metadata": {
  "kernelspec": {
   "display_name": "Python 3",
   "language": "python",
   "name": "python3"
  },
  "language_info": {
   "codemirror_mode": {
    "name": "ipython",
    "version": 3
   },
   "file_extension": ".py",
   "mimetype": "text/x-python",
   "name": "python",
   "nbconvert_exporter": "python",
   "pygments_lexer": "ipython3",
   "version": "3.6.3"
  }
 },
 "nbformat": 4,
 "nbformat_minor": 2
}
